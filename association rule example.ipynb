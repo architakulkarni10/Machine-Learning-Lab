{
 "cells": [
  {
   "cell_type": "code",
   "execution_count": 1,
   "id": "934ff9c0-b003-4165-ba60-12ab422f224c",
   "metadata": {},
   "outputs": [],
   "source": [
    "import pandas as pd\n",
    "from mlxtend.frequent_patterns import apriori, association_rules"
   ]
  },
  {
   "cell_type": "code",
   "execution_count": 3,
   "id": "c760f034-d3e1-4f0c-8d18-d00c9d797ae7",
   "metadata": {},
   "outputs": [],
   "source": [
    "dataset = [\n",
    "    [\"eggs\", \"bacon\", \"toast\", \"orange juice\"],\n",
    "    [\"eggs\", \"bacon\", \"coffee\"],\n",
    "    [\"eggs\", \"toast\"],\n",
    "    [\"bacon\", \"orange juice\"],\n",
    "    [\"toast\", \"orange juice\"],\n",
    "    [\"eggs\", \"bacon\", \"orange juice\"],\n",
    "    [\"eggs\", \"bacon\", \"orange juice\"],\n",
    "    [\"toast\", \"coffee\"],\n",
    "    [\"eggs\", \"cereal\", \"milk\"],\n",
    "    [\"cereal\", \"milk\", \"banana\"],\n",
    "    [\"banana\", \"yogurt\"],\n",
    "    [\"milk\", \"yogurt\", \"granola\"],\n",
    "    [\"coffee\", \"donut\"],\n",
    "    [\"donut\", \"milk\"],\n",
    "    [\"coffee\", \"eggs\", \"toast\"],\n",
    "    [\"eggs\", \"bacon\", \"granola\"],\n",
    "    [\"granola\", \"yogurt\"],\n",
    "    [\"milk\", \"banana\", \"orange juice\"],\n",
    "    [\"banana\", \"toast\", \"coffee\"],\n",
    "    [\"eggs\", \"donut\"],\n",
    "]"
   ]
  },
  {
   "cell_type": "code",
   "execution_count": 5,
   "id": "7ebcafda-9963-46f6-8fd6-5a1a6eece44a",
   "metadata": {},
   "outputs": [],
   "source": [
    "from mlxtend.preprocessing import TransactionEncoder\n",
    "te= TransactionEncoder()\n",
    "te_array=te.fit(dataset).transform(dataset)\n",
    "df=pd.DataFrame(te_array,columns=te.columns_)"
   ]
  },
  {
   "cell_type": "code",
   "execution_count": 7,
   "id": "83d1148a-4e10-42fa-a1a7-bcbe20edaa0a",
   "metadata": {},
   "outputs": [
    {
     "name": "stdout",
     "output_type": "stream",
     "text": [
      "One=Hot Encoded Transaction Data:\n",
      "    bacon  banana  cereal  coffee  donut   eggs  granola   milk  orange juice  \\\n",
      "0    True   False   False   False  False   True    False  False          True   \n",
      "1    True   False   False    True  False   True    False  False         False   \n",
      "2   False   False   False   False  False   True    False  False         False   \n",
      "3    True   False   False   False  False  False    False  False          True   \n",
      "4   False   False   False   False  False  False    False  False          True   \n",
      "5    True   False   False   False  False   True    False  False          True   \n",
      "6    True   False   False   False  False   True    False  False          True   \n",
      "7   False   False   False    True  False  False    False  False         False   \n",
      "8   False   False    True   False  False   True    False   True         False   \n",
      "9   False    True    True   False  False  False    False   True         False   \n",
      "10  False    True   False   False  False  False    False  False         False   \n",
      "11  False   False   False   False  False  False     True   True         False   \n",
      "12  False   False   False    True   True  False    False  False         False   \n",
      "13  False   False   False   False   True  False    False   True         False   \n",
      "14  False   False   False    True  False   True    False  False         False   \n",
      "15   True   False   False   False  False   True     True  False         False   \n",
      "16  False   False   False   False  False  False     True  False         False   \n",
      "17  False    True   False   False  False  False    False   True          True   \n",
      "18  False    True   False    True  False  False    False  False         False   \n",
      "19  False   False   False   False   True   True    False  False         False   \n",
      "\n",
      "    toast  yogurt  \n",
      "0    True   False  \n",
      "1   False   False  \n",
      "2    True   False  \n",
      "3   False   False  \n",
      "4    True   False  \n",
      "5   False   False  \n",
      "6   False   False  \n",
      "7    True   False  \n",
      "8   False   False  \n",
      "9   False   False  \n",
      "10  False    True  \n",
      "11  False    True  \n",
      "12  False   False  \n",
      "13  False   False  \n",
      "14   True   False  \n",
      "15  False   False  \n",
      "16  False    True  \n",
      "17  False   False  \n",
      "18   True   False  \n",
      "19  False   False  \n"
     ]
    }
   ],
   "source": [
    "print(\"One=Hot Encoded Transaction Data:\")\n",
    "print(df)"
   ]
  },
  {
   "cell_type": "code",
   "execution_count": 9,
   "id": "f208af67-9af1-4a85-b378-af4a8cd41457",
   "metadata": {},
   "outputs": [
    {
     "name": "stdout",
     "output_type": "stream",
     "text": [
      "\n",
      " Frequent Itemsets:\n",
      "   support        itemsets\n",
      "0     0.30         (bacon)\n",
      "1     0.45          (eggs)\n",
      "2     0.30  (orange juice)\n",
      "3     0.30         (toast)\n"
     ]
    }
   ],
   "source": [
    "frequent_itemsets=apriori(df,min_support=0.3,use_colnames=True)\n",
    "print(\"\\n Frequent Itemsets:\")\n",
    "print(frequent_itemsets)"
   ]
  },
  {
   "cell_type": "code",
   "execution_count": 11,
   "id": "6e1a327b-feeb-40a7-845f-2b69128c1d8e",
   "metadata": {},
   "outputs": [
    {
     "name": "stdout",
     "output_type": "stream",
     "text": [
      "\n",
      " Association Rules:\n",
      "Empty DataFrame\n",
      "Columns: [antecedents, consequents, support, confidence, lift]\n",
      "Index: []\n"
     ]
    }
   ],
   "source": [
    "rules=association_rules(frequent_itemsets,metric=\"lift\",min_threshold=1.0)\n",
    "print(\"\\n Association Rules:\")\n",
    "print(rules[[\"antecedents\",\"consequents\",\"support\",\"confidence\",\"lift\"]]) "
   ]
  },
  {
   "cell_type": "code",
   "execution_count": null,
   "id": "ca56c8f2-b087-43c1-8b1e-c8758bcb3036",
   "metadata": {},
   "outputs": [],
   "source": []
  }
 ],
 "metadata": {
  "kernelspec": {
   "display_name": "Python [conda env:base] *",
   "language": "python",
   "name": "conda-base-py"
  },
  "language_info": {
   "codemirror_mode": {
    "name": "ipython",
    "version": 3
   },
   "file_extension": ".py",
   "mimetype": "text/x-python",
   "name": "python",
   "nbconvert_exporter": "python",
   "pygments_lexer": "ipython3",
   "version": "3.12.7"
  }
 },
 "nbformat": 4,
 "nbformat_minor": 5
}
